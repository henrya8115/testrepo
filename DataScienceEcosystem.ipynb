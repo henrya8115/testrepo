{
 "cells": [
  {
   "cell_type": "markdown",
   "id": "db1d3cb4-ab9d-438a-8ab8-47ed2413f161",
   "metadata": {},
   "source": [
    "<h1>Data Science Tools and Ecosystem</h1>"
   ]
  },
  {
   "cell_type": "markdown",
   "id": "0bc0556b-a240-461c-9d7e-cd9bb8ccaedc",
   "metadata": {},
   "source": [
    "<title>In this notebook, Data Science Tools and Ecosystem are summarized.</title>"
   ]
  },
  {
   "cell_type": "markdown",
   "id": "5b818e1f-140a-4979-9772-bc46f37b87b7",
   "metadata": {},
   "source": [
    "<b>Objectives:</b>\n",
    "<ul>\n",
    "    <li>List popular languages for Data Science</li>\n",
    "    <li>Create a Markdown Cell</li>\n",
    "    <li>Create a Code Cell</li>\n",
    "    <li>List commonly used libraries used by Data Scientists</li>\n",
    "</ul>"
   ]
  },
  {
   "cell_type": "markdown",
   "id": "af703225-e5c1-48f0-ba53-dc41658adc39",
   "metadata": {},
   "source": [
    "<ol>Some of the popular languages that Data Scientists use are:\n",
    "        <li>Python</li>\n",
    "        <li>Scala</li>\n",
    "        <li>SQL</li>\n",
    "</ol>\n"
   ]
  },
  {
   "cell_type": "markdown",
   "id": "3b6cf094-3d75-4451-9877-7d87d4ce069e",
   "metadata": {},
   "source": [
    "<ol>Some of the commonly used libraries used by Data Scientists include:\n",
    "    <li>Numpy</li>\n",
    "    <li>Pandas</li>\n",
    "    <li>Matplotlib</li>\n",
    "</ol>"
   ]
  },
  {
   "cell_type": "markdown",
   "id": "356b4018-c85b-4304-b8d4-767596618eaf",
   "metadata": {},
   "source": [
    "<table>\n",
    "    <th>Data Science Tools</th>\n",
    "    <tr><td>Jupyter Notebooks</td></tr>\n",
    "    <tr><td>GitHub</td></tr>\n",
    "    <tr><td>GitLab</td></tr>      \n",
    "</table>"
   ]
  },
  {
   "cell_type": "markdown",
   "id": "8a79ec0b-9c3e-4f56-bd06-2e95d3ea4cc4",
   "metadata": {},
   "source": [
    "<h3>Below are a few examples of evaluating arithmetic expressions in Python</h3>\n",
    "<p>abs()</p>\n",
    "<p>min()</p>\n",
    "<p>max()</p>"
   ]
  },
  {
   "cell_type": "code",
   "execution_count": 3,
   "id": "3d546991-5d8f-4331-9df3-7d1c504807a2",
   "metadata": {},
   "outputs": [
    {
     "data": {
      "text/plain": [
       "17"
      ]
     },
     "execution_count": 3,
     "metadata": {},
     "output_type": "execute_result"
    }
   ],
   "source": [
    "\"This a simple arithmetic expression to mutiply then add integers\"\n",
    "(3*4)+5"
   ]
  },
  {
   "cell_type": "code",
   "execution_count": 5,
   "id": "e0a16d57-39ae-4bd2-bab9-d637bbf11482",
   "metadata": {},
   "outputs": [
    {
     "data": {
      "text/plain": [
       "3.3333333333333335"
      ]
     },
     "execution_count": 5,
     "metadata": {},
     "output_type": "execute_result"
    }
   ],
   "source": [
    "\"This will convert 200 minutes to hours by diving by 60.\"\n",
    "200/60"
   ]
  },
  {
   "cell_type": "markdown",
   "id": "c14f5804-228e-45dc-baac-309f45f839b8",
   "metadata": {},
   "source": [
    "<h2>Author</h2>\n",
    "Henry Avery"
   ]
  }
 ],
 "metadata": {
  "kernelspec": {
   "display_name": "Python 3 (ipykernel)",
   "language": "python",
   "name": "python3"
  },
  "language_info": {
   "codemirror_mode": {
    "name": "ipython",
    "version": 3
   },
   "file_extension": ".py",
   "mimetype": "text/x-python",
   "name": "python",
   "nbconvert_exporter": "python",
   "pygments_lexer": "ipython3",
   "version": "3.12.8"
  }
 },
 "nbformat": 4,
 "nbformat_minor": 5
}
